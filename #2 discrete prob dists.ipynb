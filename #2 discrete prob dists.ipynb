{
 "cells": [
  {
   "attachments": {},
   "cell_type": "markdown",
   "metadata": {},
   "source": [
    "# Discrete probability distributions"
   ]
  },
  {
   "cell_type": "code",
   "execution_count": null,
   "metadata": {},
   "outputs": [],
   "source": [
    "import numpy as np\n",
    "import math"
   ]
  },
  {
   "attachments": {},
   "cell_type": "markdown",
   "metadata": {},
   "source": [
    "## 1. Bernoulli distributions\n",
    "\n",
    "Define each outcome either as success or failure.\n",
    "\n",
    "- properties of Bernoulli process\n",
    "1. The experiments consists of repeated trials.\n",
    "2. Tach trial results in an outcome that may be classified as a success or failure.(such trial is called a **Bernoulli trial**)\n",
    "3. The probability of success, denoted by $p$, remains constant from trial to trial.\n",
    "4. The repeated trials are independent.\n",
    "\n",
    "Def. A Bernoulli trial can result in a success with probability $p$ and a failure with probability $q = 1 - p$. Then the probability distribution of the binomial random variable $X$, the number of successes in $n$ independent trials, is\n",
    "$$\n",
    "  b(x;n,p) = \\begin{pmatrix} n \\\\ x \\end{pmatrix} p^x q^{n-x},   x = 0, 1, 2, \\ldots, n.\n",
    "$$\n",
    "\n",
    "Its mean and variance are:\n",
    "$$\n",
    "  \\mu = np \\text{ and } \\sigma^2 = npq\n",
    "$$"
   ]
  },
  {
   "cell_type": "code",
   "execution_count": null,
   "metadata": {},
   "outputs": [],
   "source": [
    "# implementation of binomial distribution\n",
    "def binomial(x, n, p):\n",
    "    return math.comb(n, x) * pow(p, x) * pow(1 - p, n - x)\n",
    "\n",
    "x = np.arnge(10)\n",
    "n = 20\n",
    "p = 0.5  # binomial becomes Bernoulli dist.\n",
    "\n",
    "y = binomial(x, n, p)\n",
    "\n",
    "# plot of Bernoulli dist."
   ]
  },
  {
   "cell_type": "code",
   "execution_count": null,
   "metadata": {},
   "outputs": [],
   "source": [
    "# of course there already is a pre-installed method"
   ]
  },
  {
   "attachments": {},
   "cell_type": "markdown",
   "metadata": {},
   "source": [
    "## 2. Hypergeometric distribution\n",
    "\n",
    "This is just a binomial distribution without replacement and without independence condition of binomial dist.<br>\n",
    "\n",
    "The probability distribution of the hypergeometric random variable $X$, the number of successes in a random sample of size $n$ selected from $N$ items of which $k$ are labeled **success** and $N - k$ labeled **failure**, is\n",
    "$$\n",
    "    h(x;N,n,k) =\\frac{\\begin{pmatrix} k \\\\ x \\end{pmatrix} \\begin{pmatrix} N-k \\\\ n-x \\end{pmatrix}}{\\begin{pmatrix} N \\\\ n \\end{pmatrix}},\n",
    "    \\max \\{0, n - (N - k)\\} \\leq x \\leq \\min \\{n, k\\}\n",
    "$$\n",
    "\n",
    "Recall that we have:\n",
    "$$\n",
    "    \\mu = \\frac{nk}{N}, \\text{ and } \\sigma^2 = \\frac{N-n}{N-1} n \\frac{k}{N}\\left(1-\\frac{k}{N}\\right) \n",
    "$$\n",
    "\n",
    "a binomial distribution can be used to approximate the hypergeometric distribution when $n$ is small compared to $N$."
   ]
  },
  {
   "cell_type": "code",
   "execution_count": null,
   "metadata": {},
   "outputs": [],
   "source": [
    "# implementation of hypergeometric distribution\n",
    "def hyp_geo(x, N, n, k):\n",
    "    return (math.comb(k, x) * math.comb(N - k, n - x)) / math.comb(N, n)\n",
    "\n",
    "# probably the following is faster\n",
    "# def hyp_geo(x, N, n, k):\n",
    "#     return (math.comb(k, x) * math.comb(N - k, n - x)) / math.comb(N, n)"
   ]
  },
  {
   "attachments": {},
   "cell_type": "markdown",
   "metadata": {},
   "source": [
    "## 3. Negative binomial and geometric distributions\n",
    "Consider an experiment where the properties are the same as those listed for a binomial experiment, with the exception that the trials will be repeated until a *fixed* number of successes occur:<br><br>\n",
    "\n",
    "If repeated independent trials can result in a success with probability $p$ and a failure with probability $1 - p$, then the probability distribution of the randomn variable $X$, the number of the trial on which the $k$th success occurs, is \n",
    "$$\n",
    "    b^*(x;k,p) = \\begin{pmatrix} x - 1 \\\\ k - 1 \\end{pmatrix} p^kq^{x - k}, x = k, k + 1, k + 2, \\ldots\n",
    "$$"
   ]
  },
  {
   "cell_type": "code",
   "execution_count": null,
   "metadata": {},
   "outputs": [],
   "source": [
    "def neg_bin(x, k, p):\n",
    "    return math.comb(x - 1, k - 1) * pow(p, k) * pow(1 - p, x - k)"
   ]
  },
  {
   "attachments": {},
   "cell_type": "markdown",
   "metadata": {},
   "source": [
    "### geometric distribution\n",
    "consider the special case of negative binomial distribution with $k = 1$, i.e., we have a probability densityt for the number of trials required for a single success. Associated probability distribution is called the **geometric distribution**:<br><br>\n",
    "\n",
    "If repeated independent trials can result in a success with probability $p$ and a failure with probability $q = 1- p$, then the probability distribution of the random variable $X$, the number of the trial on which the first success occurs, is\n",
    "$$\n",
    "    g(x; p) = p q^{x - 1}, x = 1, 2, 3, \\ldots\n",
    "$$\n",
    "\n",
    "Its mean and variance are:\n",
    "$$\n",
    "    \\mu = \\frac{1}{p}, \\text{ and } \\sigma^2 = \\frac{1 - p}{p^2}\n",
    "$$"
   ]
  },
  {
   "cell_type": "code",
   "execution_count": null,
   "metadata": {},
   "outputs": [],
   "source": [
    "# implementatino of geometric distribution\n",
    "def geo_dist(x, p):\n",
    "    return p * pow(1 - p, x - 1)"
   ]
  },
  {
   "attachments": {},
   "cell_type": "markdown",
   "metadata": {},
   "source": [
    "## 4. Poisson distribution and Poisson process\n",
    "\n",
    "Expriments yielding the numerical values, the number of outcomes occuring during a given time interval or in a specified region, of a random variable $X$ are called ***Poissson experiments***.<br><br>\n",
    "\n",
    "Properties of Poisson process:\n",
    "1. The number of outcomes occuring in one time interval or specified region of space is independent of the number that occur in any other disjoint time interval or region. In this sense we say that the Poisson process has no memory.\n",
    "2. The probability that a single outcome will occur during a very short time interval or in a small region is proportional to the length of the time interval or the size of the region and does not depend on the number of outcomes occurring this time interval or region.\n",
    "3. The probability that more than one outcome will occur in such a short time interval or fall in such a small region is negligible.<br><br>\n",
    "\n",
    "The number $X$ of outcomes occurring during a Poisson experiment is called a ***Poisson random variable***, and its probability distribution is called the ***Poisson distribution***.\n",
    "\n",
    "The probability distribution of Poisson random variable $X$, representing the number of outcomes occuring in a given time interval or specified region denoted by $t$, is\n",
    "$$\n",
    "    p(x;\\lambda t) = \\frac{e^{-\\lambda t}(\\lambda t)^x}{x!},     x = 0, 1, 2, \\ldots,\n",
    "$$\n",
    "where $\\lambda$ is the average number of outcomes per unit time, distance, area, or volume and $e=2.71828 \\ldots$.<br>\n",
    "\n",
    "Both the mean and the variance of the Poisson distribution $p(x;\\lambda t)$ are $\\lambda t$.<br>\n",
    "Note that the larger $\\mu$, the more symmetrical(bell-shaped) the associated Poisson distribution is.<br><br>\n",
    "\n",
    "***Theorem***<br>\n",
    "Let $X$ be a binomial random variable with probability distribution $b(x;n,p)$. When $n \\to \\infty, p \\to 0$, and $np \\xrightarrow{n \\to \\infty} \\mu$ remains constant,\n",
    "$$\n",
    "    b(x;n,p) \\xrightarrow{n \\to \\infty} p(x;\\mu).\n",
    "$$"
   ]
  },
  {
   "cell_type": "code",
   "execution_count": null,
   "metadata": {},
   "outputs": [],
   "source": [
    "# implementation of Poisson distribution\n",
    "def Poisson_dist(x, mu):\n",
    "    return (np.exp(-1 * mu)* pow(mu, x)) / math.factorial(x)\n",
    "\n",
    "# suggestion 1; instead of using np.exp(), how about approximating exp ftn using either Taylor expansion or smt?\n",
    "\n",
    "# plot of Poisson distribution"
   ]
  }
 ],
 "metadata": {
  "kernelspec": {
   "display_name": "Python 3",
   "language": "python",
   "name": "python3"
  },
  "language_info": {
   "name": "python",
   "version": "3.11.3"
  },
  "orig_nbformat": 4
 },
 "nbformat": 4,
 "nbformat_minor": 2
}
